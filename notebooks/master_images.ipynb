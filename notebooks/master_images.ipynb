{
 "cells": [
  {
   "cell_type": "code",
   "execution_count": 1,
   "source": [
    "import numpy as np\r\n",
    "import cv2\r\n",
    "from master_lib.utils import files_and_directories\r\n",
    "from os.path import join"
   ],
   "outputs": [],
   "metadata": {}
  },
  {
   "cell_type": "code",
   "execution_count": 2,
   "source": [
    "def search_train_key(key, train_path):\r\n",
    "    subdirs = files_and_directories.list_dirs(train_path)\r\n",
    "    for subdir in subdirs:\r\n",
    "        subsubdir = files_and_directories.list_dirs(join(train_path, subdir))[0]\r\n",
    "        file_name = files_and_directories.list_spec_files(join(train_path, subdir, subsubdir), '.dcm')[0]\r\n",
    "        if file_name == key:\r\n",
    "            return join(train_path, subdir, subsubdir, file_name)\r\n",
    "\r\n",
    "    return None"
   ],
   "outputs": [],
   "metadata": {}
  },
  {
   "cell_type": "code",
   "execution_count": 3,
   "source": [
    "dataset_path = r'C:\\Users\\MikołajStryja\\Documents\\Studia\\master\\dataset.json'\r\n",
    "master_img_path = r'C:\\Users\\MikołajStryja\\Documents\\Studia\\do_magisterki_obrazy'"
   ],
   "outputs": [],
   "metadata": {}
  },
  {
   "cell_type": "code",
   "execution_count": 4,
   "source": [
    "dataset = files_and_directories.load_json(dataset_path)"
   ],
   "outputs": [],
   "metadata": {}
  },
  {
   "cell_type": "code",
   "execution_count": 5,
   "source": [
    "keys = list(dataset.keys())"
   ],
   "outputs": [],
   "metadata": {}
  },
  {
   "cell_type": "code",
   "execution_count": 6,
   "source": [
    "images_path = r'C:\\Users\\MikołajStryja\\Documents\\Studia\\siim-covid19-detection\\train'\r\n",
    "A = search_train_key(keys[0], images_path)"
   ],
   "outputs": [],
   "metadata": {}
  },
  {
   "cell_type": "code",
   "execution_count": null,
   "source": [],
   "outputs": [],
   "metadata": {}
  },
  {
   "cell_type": "code",
   "execution_count": 7,
   "source": [
    "A"
   ],
   "outputs": [
    {
     "output_type": "execute_result",
     "data": {
      "text/plain": [
       "'C:\\\\Users\\\\MikołajStryja\\\\Documents\\\\Studia\\\\siim-covid19-detection\\\\train\\\\5776db0cec75\\\\81456c9c5423\\\\000a312787f2.dcm'"
      ]
     },
     "metadata": {},
     "execution_count": 7
    }
   ],
   "metadata": {}
  },
  {
   "cell_type": "code",
   "execution_count": 8,
   "source": [
    "A_metadata = dataset[keys[0]]\r\n",
    "A_metadata"
   ],
   "outputs": [
    {
     "output_type": "execute_result",
     "data": {
      "text/plain": [
       "{'Atypical Appearance': 0,\n",
       " 'Indeterminate Appearance': 0,\n",
       " 'Negative for Pneumonia': 0,\n",
       " 'StudyInstanceUID': '5776db0cec75',\n",
       " 'Typical Appearance': 1,\n",
       " 'boxes': [{'height': 1917.30292,\n",
       "   'width': 1026.65662,\n",
       "   'x': 789.28836,\n",
       "   'y': 582.43035},\n",
       "  {'height': 1761.54944,\n",
       "   'width': 1094.66162,\n",
       "   'x': 2245.91208,\n",
       "   'y': 591.20528}],\n",
       " 'label': {'opacity_0': [1.0, 789.28836, 582.43035, 1815.94498, 2499.73327],\n",
       "  'opacity_1': [1.0, 2245.91208, 591.20528, 3340.5737, 2352.75472]}}"
      ]
     },
     "metadata": {},
     "execution_count": 8
    }
   ],
   "metadata": {}
  },
  {
   "cell_type": "code",
   "execution_count": 9,
   "source": [
    "bboxes = A_metadata['boxes']"
   ],
   "outputs": [],
   "metadata": {}
  },
  {
   "cell_type": "code",
   "execution_count": 10,
   "source": [
    "bbox = bboxes[0]"
   ],
   "outputs": [],
   "metadata": {}
  },
  {
   "cell_type": "code",
   "execution_count": 11,
   "source": [
    "bbox"
   ],
   "outputs": [
    {
     "output_type": "execute_result",
     "data": {
      "text/plain": [
       "{'height': 1917.30292, 'width': 1026.65662, 'x': 789.28836, 'y': 582.43035}"
      ]
     },
     "metadata": {},
     "execution_count": 11
    }
   ],
   "metadata": {}
  },
  {
   "cell_type": "code",
   "execution_count": 12,
   "source": [
    "from master_lib.image_processing import processing"
   ],
   "outputs": [],
   "metadata": {}
  },
  {
   "cell_type": "code",
   "execution_count": 13,
   "source": [
    "img = processing.load_dicom_image(A)"
   ],
   "outputs": [],
   "metadata": {}
  },
  {
   "cell_type": "code",
   "execution_count": 14,
   "source": [
    "cropp_img = processing.cropp_image_bbox_dict(img, bbox)"
   ],
   "outputs": [],
   "metadata": {}
  },
  {
   "cell_type": "code",
   "execution_count": 15,
   "source": [
    "from PIL import Image\r\n",
    "to_save = Image.fromarray(cropp_img)\r\n",
    "to_save.save(os.path.join(master_img_path, os.path.basename(keys[0])) + 'cropp_from_functions.png')"
   ],
   "outputs": [],
   "metadata": {}
  },
  {
   "cell_type": "code",
   "execution_count": 16,
   "source": [
    "hyperparameters_dict = {}\r\n",
    "hyperparameters_dict['batch_size'] = 10\r\n",
    "hyperparameters_dict['patch_size'] = (512, 512)\r\n",
    "hyperparameters_dict['epochs'] = 100\r\n",
    "hyperparameters_dict['conv_kernel'] = [3, 3]\r\n",
    "hyperparameters_dict['max_pool_kernel'] = [2, 2]\r\n",
    "hyperparameters_dict['learning_rate'] = 0.001\r\n",
    "\r\n",
    "files_and_directories.save_json(hyperparameters_dict, r'C:\\Users\\MikołajStryja\\Documents\\Studia\\master\\hyperparameters.json')"
   ],
   "outputs": [],
   "metadata": {}
  },
  {
   "cell_type": "code",
   "execution_count": 17,
   "source": [
    "def harmonic(x, y):\r\n",
    "    return 2*x*y/(x+y)"
   ],
   "outputs": [],
   "metadata": {}
  },
  {
   "cell_type": "code",
   "execution_count": 19,
   "source": [
    "harmonic(0.658, 0.589)"
   ],
   "outputs": [
    {
     "output_type": "execute_result",
     "data": {
      "text/plain": [
       "0.6215910184442663"
      ]
     },
     "metadata": {},
     "execution_count": 19
    }
   ],
   "metadata": {}
  },
  {
   "cell_type": "code",
   "execution_count": 30,
   "source": [
    "imgs = 2000\r\n",
    "negative = 1285\r\n",
    "positive = imgs - 1285\r\n",
    "TN = negative - 200\r\n",
    "TP = positive - 158\r\n",
    "FP = 200\r\n",
    "FN = 158\r\n",
    "conf_matrix = np.array([[TP, FP], [FN, TN]])"
   ],
   "outputs": [],
   "metadata": {}
  },
  {
   "cell_type": "code",
   "execution_count": 31,
   "source": [
    "conf_matrix"
   ],
   "outputs": [
    {
     "output_type": "execute_result",
     "data": {
      "text/plain": [
       "array([[ 557,  200],\n",
       "       [ 158, 1085]])"
      ]
     },
     "metadata": {},
     "execution_count": 31
    }
   ],
   "metadata": {}
  },
  {
   "cell_type": "code",
   "execution_count": 32,
   "source": [
    "acc = (conf_matrix[0, 0] + conf_matrix[1, 1])/conf_matrix.sum()"
   ],
   "outputs": [],
   "metadata": {}
  },
  {
   "cell_type": "code",
   "execution_count": 33,
   "source": [
    "acc"
   ],
   "outputs": [
    {
     "output_type": "execute_result",
     "data": {
      "text/plain": [
       "0.821"
      ]
     },
     "metadata": {},
     "execution_count": 33
    }
   ],
   "metadata": {}
  },
  {
   "cell_type": "code",
   "execution_count": 36,
   "source": [
    "precison = TP/(TP + FP)\r\n",
    "precison"
   ],
   "outputs": [
    {
     "output_type": "execute_result",
     "data": {
      "text/plain": [
       "0.7357992073976222"
      ]
     },
     "metadata": {},
     "execution_count": 36
    }
   ],
   "metadata": {}
  },
  {
   "cell_type": "code",
   "execution_count": 40,
   "source": [
    "recall = TP/(TP + FN)\r\n",
    "recall"
   ],
   "outputs": [
    {
     "output_type": "execute_result",
     "data": {
      "text/plain": [
       "0.779020979020979"
      ]
     },
     "metadata": {},
     "execution_count": 40
    }
   ],
   "metadata": {}
  },
  {
   "cell_type": "code",
   "execution_count": 39,
   "source": [
    "F1 = harmonic(precison, recall)\r\n",
    "F1"
   ],
   "outputs": [
    {
     "output_type": "execute_result",
     "data": {
      "text/plain": [
       "0.7567934782608695"
      ]
     },
     "metadata": {},
     "execution_count": 39
    }
   ],
   "metadata": {}
  },
  {
   "cell_type": "code",
   "execution_count": 43,
   "source": [
    "TP = positive - 87\r\n",
    "FP = negative - 45\r\n",
    "FN = 45\r\n",
    "FP = 87\r\n",
    "efficient_net_conf_matrix = np.array([[TP, FP], [FN, TN]])"
   ],
   "outputs": [],
   "metadata": {}
  },
  {
   "cell_type": "code",
   "execution_count": 44,
   "source": [
    "efficient_net_conf_matrix"
   ],
   "outputs": [
    {
     "output_type": "execute_result",
     "data": {
      "text/plain": [
       "array([[ 628,   87],\n",
       "       [  45, 1085]])"
      ]
     },
     "metadata": {},
     "execution_count": 44
    }
   ],
   "metadata": {}
  },
  {
   "cell_type": "code",
   "execution_count": 45,
   "source": [
    "efficient_net_conf_matrix[1,0]"
   ],
   "outputs": [
    {
     "output_type": "execute_result",
     "data": {
      "text/plain": [
       "45"
      ]
     },
     "metadata": {},
     "execution_count": 45
    }
   ],
   "metadata": {}
  },
  {
   "cell_type": "code",
   "execution_count": 46,
   "source": [
    "def return_metrics(conf_matrix: np.ndarray):\r\n",
    "    acc = (conf_matrix[0, 0] + conf_matrix[1, 1])/conf_matrix.sum()\r\n",
    "    recall = conf_matrix[0, 0]/(conf_matrix[0, 0] + conf_matrix[1, 0])\r\n",
    "    precison = conf_matrix[0,0]/(conf_matrix[0,0] + conf_matrix[0,1])\r\n",
    "    F1 = harmonic(recall, precison)\r\n",
    "    return (acc, recall, precison, F1)"
   ],
   "outputs": [],
   "metadata": {}
  },
  {
   "cell_type": "code",
   "execution_count": 47,
   "source": [
    "metrics = return_metrics(efficient_net_conf_matrix)"
   ],
   "outputs": [],
   "metadata": {}
  },
  {
   "cell_type": "code",
   "execution_count": 48,
   "source": [
    "metrics"
   ],
   "outputs": [
    {
     "output_type": "execute_result",
     "data": {
      "text/plain": [
       "(0.9284552845528455,\n",
       " 0.9331352154531947,\n",
       " 0.8783216783216783,\n",
       " 0.9048991354466859)"
      ]
     },
     "metadata": {},
     "execution_count": 48
    }
   ],
   "metadata": {}
  },
  {
   "cell_type": "code",
   "execution_count": null,
   "source": [],
   "outputs": [],
   "metadata": {}
  }
 ],
 "metadata": {
  "orig_nbformat": 4,
  "language_info": {
   "name": "python",
   "version": "3.8.8",
   "mimetype": "text/x-python",
   "codemirror_mode": {
    "name": "ipython",
    "version": 3
   },
   "pygments_lexer": "ipython3",
   "nbconvert_exporter": "python",
   "file_extension": ".py"
  },
  "kernelspec": {
   "name": "python3",
   "display_name": "Python 3.8.8 64-bit ('base': conda)"
  },
  "interpreter": {
   "hash": "b3ba2566441a7c06988d0923437866b63cedc61552a5af99d1f4fb67d367b25f"
  }
 },
 "nbformat": 4,
 "nbformat_minor": 2
}