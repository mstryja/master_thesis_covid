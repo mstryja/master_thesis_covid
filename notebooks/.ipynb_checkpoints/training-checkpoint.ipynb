{
 "cells": [
  {
   "cell_type": "code",
   "execution_count": 1,
   "metadata": {},
   "outputs": [
    {
     "ename": "ModuleNotFoundError",
     "evalue": "No module named 'master_lib'",
     "output_type": "error",
     "traceback": [
      "\u001b[0;31m---------------------------------------------------------------------------\u001b[0m",
      "\u001b[0;31mModuleNotFoundError\u001b[0m                       Traceback (most recent call last)",
      "\u001b[0;32m/tmp/ipykernel_815982/1728463447.py\u001b[0m in \u001b[0;36m<module>\u001b[0;34m\u001b[0m\n\u001b[1;32m      1\u001b[0m \u001b[0;32mimport\u001b[0m \u001b[0mnumpy\u001b[0m \u001b[0;32mas\u001b[0m \u001b[0mnp\u001b[0m\u001b[0;34m\u001b[0m\u001b[0;34m\u001b[0m\u001b[0m\n\u001b[0;32m----> 2\u001b[0;31m \u001b[0;32mfrom\u001b[0m \u001b[0mmaster_lib\u001b[0m\u001b[0;34m.\u001b[0m\u001b[0mutils\u001b[0m \u001b[0;32mimport\u001b[0m \u001b[0mfiles_and_directories\u001b[0m\u001b[0;34m\u001b[0m\u001b[0;34m\u001b[0m\u001b[0m\n\u001b[0m\u001b[1;32m      3\u001b[0m \u001b[0;32mimport\u001b[0m \u001b[0mpandas\u001b[0m \u001b[0;32mas\u001b[0m \u001b[0mpd\u001b[0m\u001b[0;34m\u001b[0m\u001b[0;34m\u001b[0m\u001b[0m\n\u001b[1;32m      4\u001b[0m \u001b[0;32mfrom\u001b[0m \u001b[0mmaster_lib\u001b[0m\u001b[0;34m.\u001b[0m\u001b[0mmodel\u001b[0m\u001b[0;34m.\u001b[0m\u001b[0mgenerator\u001b[0m \u001b[0;32mimport\u001b[0m \u001b[0mDataGenerator\u001b[0m\u001b[0;34m\u001b[0m\u001b[0;34m\u001b[0m\u001b[0m\n\u001b[1;32m      5\u001b[0m \u001b[0;32mfrom\u001b[0m \u001b[0mtyping\u001b[0m \u001b[0;32mimport\u001b[0m \u001b[0mList\u001b[0m\u001b[0;34m\u001b[0m\u001b[0;34m\u001b[0m\u001b[0m\n",
      "\u001b[0;31mModuleNotFoundError\u001b[0m: No module named 'master_lib'"
     ]
    }
   ],
   "source": [
    "import numpy as np\n",
    "from master_lib.utils import files_and_directories\n",
    "import pandas as pd\n",
    "from master_lib.model.generator import DataGenerator\n",
    "from typing import List\n",
    "\n",
    "# model definition\n",
    "import PIL\n",
    "import os\n",
    "import tensorflow as tf\n",
    "\n",
    "from tensorflow import keras\n",
    "from tensorflow.keras import layers\n",
    "from tensorflow.keras.models import Sequential\n",
    "\n",
    "num_classes = 4\n",
    "\n",
    "sess = tf.compat.v1.Session(config=tf.compat.v1.ConfigProto(log_device_placement=True))\n",
    "from tensorflow.python.client import device_lib\n",
    "print(device_lib.list_local_devices())\n",
    "\n",
    "model_archive = r'C:\\Users\\MikołajStryja\\Documents\\Studia\\master\\trained_models'"
   ]
  },
  {
   "cell_type": "code",
   "execution_count": 8,
   "metadata": {},
   "outputs": [],
   "source": [
    "def dataset_partition(train_images_path_list: List, coef: float = 0.3, evaluation_cases: int = 150, verbose: int = 1):\n",
    "    max_idx = len(train_images_path_list)-evaluation_cases\n",
    "    up = int(np.ceil(max_idx*(1 - coef)))\n",
    "    if verbose==1:\n",
    "        o = f\"dataset length: {len(train_images_path_list)}\\nEvaluation Cases: {evaluation_cases}\"\n",
    "        o += f\"\\nTrain cases: {up}\\nValidation cases: {max_idx - up}\"\n",
    "        print(o)\n",
    "    return train_images_path_list[:up], train_images_path_list[up:max_idx], train_images_path_list[max_idx:]\n",
    "# Callbacks\n",
    "early_stop = tf.keras.callbacks.EarlyStopping(monitor='val_loss', min_delta=0.001, patience=7, verbose=1)\n",
    "\n",
    "filepath = r'C:\\Users\\MikołajStryja\\Documents\\Studia\\master\\model_checkpoints'\n",
    "\n",
    "checkpoint = tf.keras.callbacks.ModelCheckpoint(\n",
    "    os.path.join(filepath, 'model5_equalization_hist_checkpoints'), monitor='val_loss', verbose=1, save_best_only=False,\n",
    "    save_weights_only=False, mode='auto', save_freq='epoch',\n",
    "    options=None\n",
    ")\n",
    "\n",
    "def scheduler(epoch, lr):\n",
    "  if epoch < 5:\n",
    "    return lr\n",
    "  else:\n",
    "    return lr * tf.math.exp(-0.1)\n",
    "\n",
    "learning_rate = tf.keras.callbacks.LearningRateScheduler(\n",
    "    scheduler, verbose=1\n",
    ")"
   ]
  },
  {
   "cell_type": "code",
   "execution_count": 9,
   "metadata": {},
   "outputs": [],
   "source": [
    "dataset_path = r'C:\\Users\\MikołajStryja\\Documents\\Studia\\master\\dataset.json'\n",
    "dataset = files_and_directories.load_json(dataset_path)\n",
    "dataset_images = r'C:\\Users\\MikołajStryja\\Documents\\Studia\\siim-covid19-detection'\n",
    "dataset = files_and_directories.load_json(dataset_path)\n",
    "train_imgs = files_and_directories.list_train_images(dataset_images)"
   ]
  },
  {
   "cell_type": "code",
   "execution_count": 10,
   "metadata": {},
   "outputs": [
    {
     "name": "stdout",
     "output_type": "stream",
     "text": [
      "dataset length: 6054\n",
      "Evaluation Cases: 150\n",
      "Train cases: 4133\n",
      "Validation cases: 1771\n"
     ]
    }
   ],
   "source": [
    "Xtrain, Xval, Xeval = dataset_partition(train_imgs)\n",
    "training_generator = DataGenerator(Xtrain, batch_size=32, equalization=2)\n",
    "validation_generator = DataGenerator(Xval, batch_size=32, equalization=2)\n",
    "evaluation_generator = DataGenerator(Xeval, batch_size=32, shuffle=False)"
   ]
  },
  {
   "cell_type": "code",
   "execution_count": 11,
   "metadata": {},
   "outputs": [],
   "source": [
    "model5 = Sequential([\n",
    "    layers.experimental.preprocessing.Rescaling(1./255, input_shape=(512, 512, 1)),\n",
    "    layers.Conv2D(16, (5, 5), padding='same', activation='relu', name=\"first_conv2d_filter\"),\n",
    "    layers.MaxPooling2D(),\n",
    "    layers.Conv2D(32, (5, 5), padding='same', activation='relu', name=\"second_conv2d_filter\"),\n",
    "    layers.MaxPooling2D(),\n",
    "    layers.Conv2D(32, (5, 5), padding='same', activation='relu', name=\"third_conv2d_filter\"),\n",
    "    layers.MaxPooling2D(),\n",
    "    layers.Conv2D(16, (5, 5), padding='same', activation='relu', name=\"fourth_conv2d_filter\"),\n",
    "    layers.MaxPooling2D(),\n",
    "    layers.Conv2D(8, (3, 3), padding='same', activation='relu', name=\"fith_conv2d_filter\"),\n",
    "    layers.MaxPooling2D(),\n",
    "    layers.Flatten(),\n",
    "    layers.Dense(64, activation='relu'),\n",
    "    layers.Dense(32, activation='relu'),\n",
    "    layers.Dense(16, activation='relu'),\n",
    "    layers.Dense(8, activation='relu'),\n",
    "    layers.Dense(num_classes, activation='softmax')\n",
    "])"
   ]
  },
  {
   "cell_type": "code",
   "execution_count": 12,
   "metadata": {},
   "outputs": [
    {
     "name": "stdout",
     "output_type": "stream",
     "text": [
      "Model: \"sequential_1\"\n",
      "_________________________________________________________________\n",
      "Layer (type)                 Output Shape              Param #   \n",
      "=================================================================\n",
      "rescaling_1 (Rescaling)      (None, 512, 512, 1)       0         \n",
      "_________________________________________________________________\n",
      "first_conv2d_filter (Conv2D) (None, 512, 512, 16)      416       \n",
      "_________________________________________________________________\n",
      "max_pooling2d_5 (MaxPooling2 (None, 256, 256, 16)      0         \n",
      "_________________________________________________________________\n",
      "second_conv2d_filter (Conv2D (None, 256, 256, 32)      12832     \n",
      "_________________________________________________________________\n",
      "max_pooling2d_6 (MaxPooling2 (None, 128, 128, 32)      0         \n",
      "_________________________________________________________________\n",
      "third_conv2d_filter (Conv2D) (None, 128, 128, 32)      25632     \n",
      "_________________________________________________________________\n",
      "max_pooling2d_7 (MaxPooling2 (None, 64, 64, 32)        0         \n",
      "_________________________________________________________________\n",
      "fourth_conv2d_filter (Conv2D (None, 64, 64, 16)        12816     \n",
      "_________________________________________________________________\n",
      "max_pooling2d_8 (MaxPooling2 (None, 32, 32, 16)        0         \n",
      "_________________________________________________________________\n",
      "fith_conv2d_filter (Conv2D)  (None, 32, 32, 8)         1160      \n",
      "_________________________________________________________________\n",
      "max_pooling2d_9 (MaxPooling2 (None, 16, 16, 8)         0         \n",
      "_________________________________________________________________\n",
      "flatten_1 (Flatten)          (None, 2048)              0         \n",
      "_________________________________________________________________\n",
      "dense_5 (Dense)              (None, 64)                131136    \n",
      "_________________________________________________________________\n",
      "dense_6 (Dense)              (None, 32)                2080      \n",
      "_________________________________________________________________\n",
      "dense_7 (Dense)              (None, 16)                528       \n",
      "_________________________________________________________________\n",
      "dense_8 (Dense)              (None, 8)                 136       \n",
      "_________________________________________________________________\n",
      "dense_9 (Dense)              (None, 4)                 36        \n",
      "=================================================================\n",
      "Total params: 186,772\n",
      "Trainable params: 186,772\n",
      "Non-trainable params: 0\n",
      "_________________________________________________________________\n"
     ]
    }
   ],
   "source": [
    "model5_name = 'Sequential_6_equalization_preprocessing'\n",
    "\n",
    "model5.compile(optimizer='adam',\n",
    "              loss=tf.keras.losses.CategoricalCrossentropy(from_logits=False),\n",
    "              metrics=['accuracy'])\n",
    "\n",
    "model5.summary()"
   ]
  },
  {
   "cell_type": "code",
   "execution_count": 13,
   "metadata": {},
   "outputs": [
    {
     "name": "stdout",
     "output_type": "stream",
     "text": [
      "Epoch 1/20\n",
      "\n",
      "Epoch 00001: LearningRateScheduler setting learning rate to 0.0010000000474974513.\n",
      "  9/129 [=>............................] - ETA: 18:48 - loss: 1.3430 - accuracy: 0.2778"
     ]
    },
    {
     "name": "stderr",
     "output_type": "stream",
     "text": [
      "C:\\ProgramData\\Anaconda3\\lib\\site-packages\\pydicom\\pixel_data_handlers\\numpy_handler.py:359: UserWarning: The length of the pixel data in the dataset (13262360 bytes) indicates it contains excess padding. 216296 bytes will be removed from the end of the data\n",
      "  warnings.warn(msg)\n"
     ]
    },
    {
     "name": "stdout",
     "output_type": "stream",
     "text": [
      "129/129 [==============================] - 1970s 15s/step - loss: 1.2338 - accuracy: 0.4605 - val_loss: 1.2242 - val_accuracy: 0.4710\n",
      "\n",
      "Epoch 00001: saving model to C:\\Users\\MikołajStryja\\Documents\\Studia\\master\\model_checkpoints\\model5_equalization_hist_checkpoints\n",
      "INFO:tensorflow:Assets written to: C:\\Users\\MikołajStryja\\Documents\\Studia\\master\\model_checkpoints\\model5_equalization_hist_checkpoints\\assets\n",
      "Epoch 2/20\n",
      "\n",
      "Epoch 00002: LearningRateScheduler setting learning rate to 0.0010000000474974513.\n",
      "101/129 [======================>.......] - ETA: 4:24 - loss: 1.2208 - accuracy: 0.4749"
     ]
    },
    {
     "name": "stderr",
     "output_type": "stream",
     "text": [
      "C:\\ProgramData\\Anaconda3\\lib\\site-packages\\pydicom\\pixel_data_handlers\\numpy_handler.py:359: UserWarning: The length of the pixel data in the dataset (13262360 bytes) indicates it contains excess padding. 216296 bytes will be removed from the end of the data\n",
      "  warnings.warn(msg)\n"
     ]
    },
    {
     "name": "stdout",
     "output_type": "stream",
     "text": [
      "129/129 [==============================] - 1761s 14s/step - loss: 1.2141 - accuracy: 0.4724 - val_loss: 1.2210 - val_accuracy: 0.4710\n",
      "\n",
      "Epoch 00002: saving model to C:\\Users\\MikołajStryja\\Documents\\Studia\\master\\model_checkpoints\\model5_equalization_hist_checkpoints\n",
      "INFO:tensorflow:Assets written to: C:\\Users\\MikołajStryja\\Documents\\Studia\\master\\model_checkpoints\\model5_equalization_hist_checkpoints\\assets\n",
      "Epoch 3/20\n",
      "\n",
      "Epoch 00003: LearningRateScheduler setting learning rate to 0.0010000000474974513.\n",
      "118/129 [==========================>...] - ETA: 1:38 - loss: 1.2151 - accuracy: 0.4722"
     ]
    },
    {
     "name": "stderr",
     "output_type": "stream",
     "text": [
      "C:\\ProgramData\\Anaconda3\\lib\\site-packages\\pydicom\\pixel_data_handlers\\numpy_handler.py:359: UserWarning: The length of the pixel data in the dataset (13262360 bytes) indicates it contains excess padding. 216296 bytes will be removed from the end of the data\n",
      "  warnings.warn(msg)\n"
     ]
    },
    {
     "name": "stdout",
     "output_type": "stream",
     "text": [
      "129/129 [==============================] - 1666s 13s/step - loss: 1.2146 - accuracy: 0.4721 - val_loss: 1.2200 - val_accuracy: 0.4722\n",
      "\n",
      "Epoch 00003: saving model to C:\\Users\\MikołajStryja\\Documents\\Studia\\master\\model_checkpoints\\model5_equalization_hist_checkpoints\n",
      "INFO:tensorflow:Assets written to: C:\\Users\\MikołajStryja\\Documents\\Studia\\master\\model_checkpoints\\model5_equalization_hist_checkpoints\\assets\n",
      "Epoch 4/20\n",
      "\n",
      "Epoch 00004: LearningRateScheduler setting learning rate to 0.0010000000474974513.\n",
      "118/129 [==========================>...] - ETA: 1:38 - loss: 1.2137 - accuracy: 0.4714"
     ]
    },
    {
     "name": "stderr",
     "output_type": "stream",
     "text": [
      "C:\\ProgramData\\Anaconda3\\lib\\site-packages\\pydicom\\pixel_data_handlers\\numpy_handler.py:359: UserWarning: The length of the pixel data in the dataset (13262360 bytes) indicates it contains excess padding. 216296 bytes will be removed from the end of the data\n",
      "  warnings.warn(msg)\n"
     ]
    },
    {
     "name": "stdout",
     "output_type": "stream",
     "text": [
      "129/129 [==============================] - 1814s 14s/step - loss: 1.2147 - accuracy: 0.4721 - val_loss: 1.2269 - val_accuracy: 0.4710\n",
      "\n",
      "Epoch 00004: saving model to C:\\Users\\MikołajStryja\\Documents\\Studia\\master\\model_checkpoints\\model5_equalization_hist_checkpoints\n",
      "INFO:tensorflow:Assets written to: C:\\Users\\MikołajStryja\\Documents\\Studia\\master\\model_checkpoints\\model5_equalization_hist_checkpoints\\assets\n",
      "Epoch 5/20\n",
      "\n",
      "Epoch 00005: LearningRateScheduler setting learning rate to 0.0010000000474974513.\n",
      "129/129 [==============================] - 1800s 14s/step - loss: 1.2132 - accuracy: 0.4724 - val_loss: 1.2186 - val_accuracy: 0.4710\n",
      "\n",
      "Epoch 00005: saving model to C:\\Users\\MikołajStryja\\Documents\\Studia\\master\\model_checkpoints\\model5_equalization_hist_checkpoints\n",
      "INFO:tensorflow:Assets written to: C:\\Users\\MikołajStryja\\Documents\\Studia\\master\\model_checkpoints\\model5_equalization_hist_checkpoints\\assets\n",
      "Epoch 6/20\n",
      "\n",
      "Epoch 00006: LearningRateScheduler setting learning rate to tf.Tensor(0.0009048374, shape=(), dtype=float32).\n",
      " 82/129 [==================>...........] - ETA: 7:07 - loss: 1.2230 - accuracy: 0.4615"
     ]
    },
    {
     "name": "stderr",
     "output_type": "stream",
     "text": [
      "C:\\ProgramData\\Anaconda3\\lib\\site-packages\\pydicom\\pixel_data_handlers\\numpy_handler.py:359: UserWarning: The length of the pixel data in the dataset (13262360 bytes) indicates it contains excess padding. 216296 bytes will be removed from the end of the data\n",
      "  warnings.warn(msg)\n"
     ]
    },
    {
     "name": "stdout",
     "output_type": "stream",
     "text": [
      "129/129 [==============================] - 1667s 13s/step - loss: 1.2132 - accuracy: 0.4719 - val_loss: 1.2210 - val_accuracy: 0.4710\n",
      "\n",
      "Epoch 00006: saving model to C:\\Users\\MikołajStryja\\Documents\\Studia\\master\\model_checkpoints\\model5_equalization_hist_checkpoints\n",
      "INFO:tensorflow:Assets written to: C:\\Users\\MikołajStryja\\Documents\\Studia\\master\\model_checkpoints\\model5_equalization_hist_checkpoints\\assets\n",
      "Epoch 7/20\n",
      "\n",
      "Epoch 00007: LearningRateScheduler setting learning rate to tf.Tensor(0.0008187307, shape=(), dtype=float32).\n",
      "112/129 [=========================>....] - ETA: 2:31 - loss: 1.2169 - accuracy: 0.4685"
     ]
    },
    {
     "name": "stderr",
     "output_type": "stream",
     "text": [
      "C:\\ProgramData\\Anaconda3\\lib\\site-packages\\pydicom\\pixel_data_handlers\\numpy_handler.py:359: UserWarning: The length of the pixel data in the dataset (13262360 bytes) indicates it contains excess padding. 216296 bytes will be removed from the end of the data\n",
      "  warnings.warn(msg)\n"
     ]
    },
    {
     "name": "stdout",
     "output_type": "stream",
     "text": [
      "129/129 [==============================] - 1650s 13s/step - loss: 1.2150 - accuracy: 0.4717 - val_loss: 1.2238 - val_accuracy: 0.4710\n",
      "\n",
      "Epoch 00007: saving model to C:\\Users\\MikołajStryja\\Documents\\Studia\\master\\model_checkpoints\\model5_equalization_hist_checkpoints\n",
      "INFO:tensorflow:Assets written to: C:\\Users\\MikołajStryja\\Documents\\Studia\\master\\model_checkpoints\\model5_equalization_hist_checkpoints\\assets\n",
      "Epoch 8/20\n",
      "\n",
      "Epoch 00008: LearningRateScheduler setting learning rate to tf.Tensor(0.0007408181, shape=(), dtype=float32).\n",
      "125/129 [============================>.] - ETA: 35s - loss: 1.2130 - accuracy: 0.4723"
     ]
    },
    {
     "name": "stderr",
     "output_type": "stream",
     "text": [
      "C:\\ProgramData\\Anaconda3\\lib\\site-packages\\pydicom\\pixel_data_handlers\\numpy_handler.py:359: UserWarning: The length of the pixel data in the dataset (13262360 bytes) indicates it contains excess padding. 216296 bytes will be removed from the end of the data\n",
      "  warnings.warn(msg)\n"
     ]
    },
    {
     "name": "stdout",
     "output_type": "stream",
     "text": [
      "129/129 [==============================] - 1637s 13s/step - loss: 1.2126 - accuracy: 0.4719 - val_loss: 1.2204 - val_accuracy: 0.4699\n",
      "\n",
      "Epoch 00008: saving model to C:\\Users\\MikołajStryja\\Documents\\Studia\\master\\model_checkpoints\\model5_equalization_hist_checkpoints\n",
      "INFO:tensorflow:Assets written to: C:\\Users\\MikołajStryja\\Documents\\Studia\\master\\model_checkpoints\\model5_equalization_hist_checkpoints\\assets\n",
      "Epoch 9/20\n",
      "\n",
      "Epoch 00009: LearningRateScheduler setting learning rate to tf.Tensor(0.0006703199, shape=(), dtype=float32).\n",
      "102/129 [======================>.......] - ETA: 4:09 - loss: 1.2132 - accuracy: 0.4749"
     ]
    },
    {
     "name": "stderr",
     "output_type": "stream",
     "text": [
      "C:\\ProgramData\\Anaconda3\\lib\\site-packages\\pydicom\\pixel_data_handlers\\numpy_handler.py:359: UserWarning: The length of the pixel data in the dataset (13262360 bytes) indicates it contains excess padding. 216296 bytes will be removed from the end of the data\n",
      "  warnings.warn(msg)\n"
     ]
    },
    {
     "name": "stdout",
     "output_type": "stream",
     "text": [
      "129/129 [==============================] - 1711s 13s/step - loss: 1.2131 - accuracy: 0.4719 - val_loss: 1.2209 - val_accuracy: 0.4705\n",
      "\n",
      "Epoch 00009: saving model to C:\\Users\\MikołajStryja\\Documents\\Studia\\master\\model_checkpoints\\model5_equalization_hist_checkpoints\n",
      "INFO:tensorflow:Assets written to: C:\\Users\\MikołajStryja\\Documents\\Studia\\master\\model_checkpoints\\model5_equalization_hist_checkpoints\\assets\n",
      "Epoch 10/20\n",
      "\n",
      "Epoch 00010: LearningRateScheduler setting learning rate to tf.Tensor(0.00060653046, shape=(), dtype=float32).\n",
      " 12/129 [=>............................] - ETA: 18:09 - loss: 1.2685 - accuracy: 0.4245"
     ]
    },
    {
     "name": "stderr",
     "output_type": "stream",
     "text": [
      "C:\\ProgramData\\Anaconda3\\lib\\site-packages\\pydicom\\pixel_data_handlers\\numpy_handler.py:359: UserWarning: The length of the pixel data in the dataset (13262360 bytes) indicates it contains excess padding. 216296 bytes will be removed from the end of the data\n",
      "  warnings.warn(msg)\n"
     ]
    },
    {
     "name": "stdout",
     "output_type": "stream",
     "text": [
      "129/129 [==============================] - 1756s 14s/step - loss: 1.2114 - accuracy: 0.4724 - val_loss: 1.2172 - val_accuracy: 0.4716\n",
      "\n",
      "Epoch 00010: saving model to C:\\Users\\MikołajStryja\\Documents\\Studia\\master\\model_checkpoints\\model5_equalization_hist_checkpoints\n",
      "INFO:tensorflow:Assets written to: C:\\Users\\MikołajStryja\\Documents\\Studia\\master\\model_checkpoints\\model5_equalization_hist_checkpoints\\assets\n",
      "Epoch 11/20\n",
      "\n",
      "Epoch 00011: LearningRateScheduler setting learning rate to tf.Tensor(0.00054881145, shape=(), dtype=float32).\n",
      " 54/129 [===========>..................] - ETA: 11:10 - loss: 1.1974 - accuracy: 0.4763"
     ]
    },
    {
     "name": "stderr",
     "output_type": "stream",
     "text": [
      "C:\\ProgramData\\Anaconda3\\lib\\site-packages\\pydicom\\pixel_data_handlers\\numpy_handler.py:359: UserWarning: The length of the pixel data in the dataset (13262360 bytes) indicates it contains excess padding. 216296 bytes will be removed from the end of the data\n",
      "  warnings.warn(msg)\n"
     ]
    },
    {
     "name": "stdout",
     "output_type": "stream",
     "text": [
      "129/129 [==============================] - 1654s 13s/step - loss: 1.2115 - accuracy: 0.4719 - val_loss: 1.2207 - val_accuracy: 0.4705\n",
      "\n",
      "Epoch 00011: saving model to C:\\Users\\MikołajStryja\\Documents\\Studia\\master\\model_checkpoints\\model5_equalization_hist_checkpoints\n",
      "INFO:tensorflow:Assets written to: C:\\Users\\MikołajStryja\\Documents\\Studia\\master\\model_checkpoints\\model5_equalization_hist_checkpoints\\assets\n",
      "Epoch 12/20\n",
      "\n",
      "Epoch 00012: LearningRateScheduler setting learning rate to tf.Tensor(0.0004965851, shape=(), dtype=float32).\n",
      " 38/129 [=======>......................] - ETA: 12:45 - loss: 1.2225 - accuracy: 0.4564"
     ]
    },
    {
     "name": "stderr",
     "output_type": "stream",
     "text": [
      "C:\\ProgramData\\Anaconda3\\lib\\site-packages\\pydicom\\pixel_data_handlers\\numpy_handler.py:359: UserWarning: The length of the pixel data in the dataset (13262360 bytes) indicates it contains excess padding. 216296 bytes will be removed from the end of the data\n",
      "  warnings.warn(msg)\n"
     ]
    },
    {
     "name": "stdout",
     "output_type": "stream",
     "text": [
      "129/129 [==============================] - 1641s 13s/step - loss: 1.2125 - accuracy: 0.4719 - val_loss: 1.2205 - val_accuracy: 0.4693\n",
      "\n",
      "Epoch 00012: saving model to C:\\Users\\MikołajStryja\\Documents\\Studia\\master\\model_checkpoints\\model5_equalization_hist_checkpoints\n",
      "INFO:tensorflow:Assets written to: C:\\Users\\MikołajStryja\\Documents\\Studia\\master\\model_checkpoints\\model5_equalization_hist_checkpoints\\assets\n",
      "Epoch 13/20\n",
      "\n",
      "Epoch 00013: LearningRateScheduler setting learning rate to tf.Tensor(0.00044932874, shape=(), dtype=float32).\n",
      " 97/129 [=====================>........] - ETA: 4:52 - loss: 1.2119 - accuracy: 0.4739"
     ]
    },
    {
     "name": "stderr",
     "output_type": "stream",
     "text": [
      "C:\\ProgramData\\Anaconda3\\lib\\site-packages\\pydicom\\pixel_data_handlers\\numpy_handler.py:359: UserWarning: The length of the pixel data in the dataset (13262360 bytes) indicates it contains excess padding. 216296 bytes will be removed from the end of the data\n",
      "  warnings.warn(msg)\n"
     ]
    },
    {
     "name": "stdout",
     "output_type": "stream",
     "text": [
      "129/129 [==============================] - 1637s 13s/step - loss: 1.2117 - accuracy: 0.4721 - val_loss: 1.2204 - val_accuracy: 0.4710\n",
      "\n",
      "Epoch 00013: saving model to C:\\Users\\MikołajStryja\\Documents\\Studia\\master\\model_checkpoints\\model5_equalization_hist_checkpoints\n",
      "INFO:tensorflow:Assets written to: C:\\Users\\MikołajStryja\\Documents\\Studia\\master\\model_checkpoints\\model5_equalization_hist_checkpoints\\assets\n",
      "Epoch 14/20\n",
      "\n",
      "Epoch 00014: LearningRateScheduler setting learning rate to tf.Tensor(0.00040656942, shape=(), dtype=float32).\n",
      " 73/129 [===============>..............] - ETA: 8:16 - loss: 1.2069 - accuracy: 0.4812"
     ]
    },
    {
     "name": "stderr",
     "output_type": "stream",
     "text": [
      "C:\\ProgramData\\Anaconda3\\lib\\site-packages\\pydicom\\pixel_data_handlers\\numpy_handler.py:359: UserWarning: The length of the pixel data in the dataset (13262360 bytes) indicates it contains excess padding. 216296 bytes will be removed from the end of the data\n",
      "  warnings.warn(msg)\n"
     ]
    },
    {
     "name": "stdout",
     "output_type": "stream",
     "text": [
      "129/129 [==============================] - 1647s 13s/step - loss: 1.2118 - accuracy: 0.4719 - val_loss: 1.2197 - val_accuracy: 0.4705\n",
      "\n",
      "Epoch 00014: saving model to C:\\Users\\MikołajStryja\\Documents\\Studia\\master\\model_checkpoints\\model5_equalization_hist_checkpoints\n",
      "INFO:tensorflow:Assets written to: C:\\Users\\MikołajStryja\\Documents\\Studia\\master\\model_checkpoints\\model5_equalization_hist_checkpoints\\assets\n",
      "Epoch 15/20\n",
      "\n",
      "Epoch 00015: LearningRateScheduler setting learning rate to tf.Tensor(0.0003678792, shape=(), dtype=float32).\n",
      "107/129 [=======================>......] - ETA: 3:21 - loss: 1.2117 - accuracy: 0.4720"
     ]
    },
    {
     "name": "stderr",
     "output_type": "stream",
     "text": [
      "C:\\ProgramData\\Anaconda3\\lib\\site-packages\\pydicom\\pixel_data_handlers\\numpy_handler.py:359: UserWarning: The length of the pixel data in the dataset (13262360 bytes) indicates it contains excess padding. 216296 bytes will be removed from the end of the data\n",
      "  warnings.warn(msg)\n"
     ]
    },
    {
     "name": "stdout",
     "output_type": "stream",
     "text": [
      "129/129 [==============================] - 1669s 13s/step - loss: 1.2121 - accuracy: 0.4717 - val_loss: 1.2187 - val_accuracy: 0.4727\n",
      "\n",
      "Epoch 00015: saving model to C:\\Users\\MikołajStryja\\Documents\\Studia\\master\\model_checkpoints\\model5_equalization_hist_checkpoints\n",
      "INFO:tensorflow:Assets written to: C:\\Users\\MikołajStryja\\Documents\\Studia\\master\\model_checkpoints\\model5_equalization_hist_checkpoints\\assets\n",
      "Epoch 16/20\n",
      "\n",
      "Epoch 00016: LearningRateScheduler setting learning rate to tf.Tensor(0.00033287084, shape=(), dtype=float32).\n",
      "101/129 [======================>.......] - ETA: 4:01 - loss: 1.2008 - accuracy: 0.4793"
     ]
    },
    {
     "name": "stderr",
     "output_type": "stream",
     "text": [
      "C:\\ProgramData\\Anaconda3\\lib\\site-packages\\pydicom\\pixel_data_handlers\\numpy_handler.py:359: UserWarning: The length of the pixel data in the dataset (13262360 bytes) indicates it contains excess padding. 216296 bytes will be removed from the end of the data\n",
      "  warnings.warn(msg)\n"
     ]
    },
    {
     "name": "stdout",
     "output_type": "stream",
     "text": [
      "129/129 [==============================] - 1642s 13s/step - loss: 1.2101 - accuracy: 0.4724 - val_loss: 1.2206 - val_accuracy: 0.4727\n",
      "\n",
      "Epoch 00016: saving model to C:\\Users\\MikołajStryja\\Documents\\Studia\\master\\model_checkpoints\\model5_equalization_hist_checkpoints\n",
      "INFO:tensorflow:Assets written to: C:\\Users\\MikołajStryja\\Documents\\Studia\\master\\model_checkpoints\\model5_equalization_hist_checkpoints\\assets\n",
      "Epoch 17/20\n",
      "\n",
      "Epoch 00017: LearningRateScheduler setting learning rate to tf.Tensor(0.00030119397, shape=(), dtype=float32).\n",
      " 38/129 [=======>......................] - ETA: 14:15 - loss: 1.2047 - accuracy: 0.4712"
     ]
    },
    {
     "name": "stderr",
     "output_type": "stream",
     "text": [
      "C:\\ProgramData\\Anaconda3\\lib\\site-packages\\pydicom\\pixel_data_handlers\\numpy_handler.py:359: UserWarning: The length of the pixel data in the dataset (13262360 bytes) indicates it contains excess padding. 216296 bytes will be removed from the end of the data\n",
      "  warnings.warn(msg)\n"
     ]
    },
    {
     "name": "stdout",
     "output_type": "stream",
     "text": [
      "129/129 [==============================] - 1644s 13s/step - loss: 1.2119 - accuracy: 0.4717 - val_loss: 1.2203 - val_accuracy: 0.4710\n",
      "\n",
      "Epoch 00017: saving model to C:\\Users\\MikołajStryja\\Documents\\Studia\\master\\model_checkpoints\\model5_equalization_hist_checkpoints\n",
      "INFO:tensorflow:Assets written to: C:\\Users\\MikołajStryja\\Documents\\Studia\\master\\model_checkpoints\\model5_equalization_hist_checkpoints\\assets\n",
      "Epoch 00017: early stopping\n"
     ]
    },
    {
     "data": {
      "text/plain": [
       "<keras.callbacks.History at 0x1aa513f2100>"
      ]
     },
     "execution_count": 13,
     "metadata": {},
     "output_type": "execute_result"
    }
   ],
   "source": [
    "model5.fit(training_generator,\n",
    "        epochs=20,\n",
    "        validation_data=validation_generator,\n",
    "        verbose=1,\n",
    "        callbacks=[early_stop, learning_rate, checkpoint])"
   ]
  },
  {
   "cell_type": "code",
   "execution_count": 31,
   "metadata": {},
   "outputs": [
    {
     "name": "stdout",
     "output_type": "stream",
     "text": [
      "INFO:tensorflow:Assets written to: C:\\Users\\MikołajStryja\\Documents\\Studia\\master\\trained_models\\Sequential_6_equalization_preprocessing\\assets\n"
     ]
    }
   ],
   "source": [
    "model5.save(os.path.join(model_archive, model5_name))"
   ]
  },
  {
   "cell_type": "code",
   "execution_count": 23,
   "metadata": {},
   "outputs": [
    {
     "ename": "AttributeError",
     "evalue": "'History' object has no attribute 'epoch'",
     "output_type": "error",
     "traceback": [
      "\u001b[1;31m---------------------------------------------------------------------------\u001b[0m",
      "\u001b[1;31mAttributeError\u001b[0m                            Traceback (most recent call last)",
      "\u001b[1;32m<ipython-input-23-55582525f591>\u001b[0m in \u001b[0;36m<module>\u001b[1;34m\u001b[0m\n\u001b[0;32m      1\u001b[0m \u001b[1;32mimport\u001b[0m \u001b[0mmatplotlib\u001b[0m\u001b[1;33m.\u001b[0m\u001b[0mpyplot\u001b[0m \u001b[1;32mas\u001b[0m \u001b[0mplt\u001b[0m\u001b[1;33m\u001b[0m\u001b[1;33m\u001b[0m\u001b[0m\n\u001b[0;32m      2\u001b[0m \u001b[1;32mfrom\u001b[0m \u001b[0mmatplotlib\u001b[0m\u001b[1;33m.\u001b[0m\u001b[0mticker\u001b[0m \u001b[1;32mimport\u001b[0m \u001b[0mMaxNLocator\u001b[0m\u001b[1;33m\u001b[0m\u001b[1;33m\u001b[0m\u001b[0m\n\u001b[1;32m----> 3\u001b[1;33m \u001b[0mepochs\u001b[0m \u001b[1;33m=\u001b[0m \u001b[0mmodel5\u001b[0m\u001b[1;33m.\u001b[0m\u001b[0mhistory\u001b[0m\u001b[1;33m.\u001b[0m\u001b[0mepoch\u001b[0m\u001b[1;33m\u001b[0m\u001b[1;33m\u001b[0m\u001b[0m\n\u001b[0m\u001b[0;32m      4\u001b[0m \u001b[0mkeys\u001b[0m \u001b[1;33m=\u001b[0m \u001b[0mmodel5\u001b[0m\u001b[1;33m.\u001b[0m\u001b[0mhistory\u001b[0m\u001b[1;33m.\u001b[0m\u001b[0mhistory\u001b[0m\u001b[1;33m.\u001b[0m\u001b[0mkeys\u001b[0m\u001b[1;33m(\u001b[0m\u001b[1;33m)\u001b[0m\u001b[1;33m\u001b[0m\u001b[1;33m\u001b[0m\u001b[0m\n\u001b[0;32m      5\u001b[0m \u001b[0mloss\u001b[0m \u001b[1;33m=\u001b[0m \u001b[0mmodel5\u001b[0m\u001b[1;33m.\u001b[0m\u001b[0mhistory\u001b[0m\u001b[1;33m.\u001b[0m\u001b[0mhistory\u001b[0m\u001b[1;33m[\u001b[0m\u001b[1;34m'loss'\u001b[0m\u001b[1;33m]\u001b[0m\u001b[1;33m\u001b[0m\u001b[1;33m\u001b[0m\u001b[0m\n",
      "\u001b[1;31mAttributeError\u001b[0m: 'History' object has no attribute 'epoch'"
     ]
    }
   ],
   "source": [
    "import matplotlib.pyplot as plt\n",
    "from matplotlib.ticker import MaxNLocator\n",
    "epochs = model5.history.epoch\n",
    "keys = model5.history.history.keys()\n",
    "loss = model5.history.history['loss']\n",
    "val_loss = model5.history.history['val_loss']\n",
    "acc = model5.history.history['accuracy']\n",
    "val_acc = model5.history.history['val_accuracy']\n"
   ]
  },
  {
   "cell_type": "code",
   "execution_count": 15,
   "metadata": {},
   "outputs": [
    {
     "data": {
      "image/png": "[encoded data removed]",
      "text/plain": [
       "<Figure size 432x288 with 1 Axes>"
      ]
     },
     "metadata": {
      "needs_background": "light"
     },
     "output_type": "display_data"
    }
   ],
   "source": [
    "plt.plot(epochs, loss, 'r-', label='Loss')\n",
    "plt.plot(epochs, val_loss, 'b-', label='Validation Loss')\n",
    "plt.xlabel('Epochs')\n",
    "plt.ylabel('Loss and Validation Loss values')\n",
    "plt.grid()\n",
    "plt.xticks(epochs)\n",
    "plt.legend()\n",
    "\n",
    "plt.savefig(r'C:\\Users\\MikołajStryja\\Documents\\Studia\\do_magisterki_obrazy\\Model_5_loss_val_loss.png')"
   ]
  },
  {
   "cell_type": "code",
   "execution_count": 16,
   "metadata": {},
   "outputs": [
    {
     "data": {
      "image/png": "[encoded data removed]",
      "text/plain": [
       "<Figure size 432x288 with 1 Axes>"
      ]
     },
     "metadata": {
      "needs_background": "light"
     },
     "output_type": "display_data"
    }
   ],
   "source": [
    "plt.plot(epochs, acc, 'r-', label='Accuracy')\n",
    "plt.plot(epochs, val_acc, 'b-', label='Validation Accuracy')\n",
    "plt.xlabel('Epochs')\n",
    "plt.ylabel('Accuracy and Validation Accuracy values')\n",
    "plt.grid()\n",
    "plt.xticks(epochs)\n",
    "plt.legend()\n",
    "\n",
    "plt.savefig(r'C:\\Users\\MikołajStryja\\Documents\\Studia\\do_magisterki_obrazy\\Model_5_acc_val_acc.png')"
   ]
  },
  {
   "cell_type": "code",
   "execution_count": 17,
   "metadata": {},
   "outputs": [
    {
     "data": {
      "image/png": "[encoded data removed]",
      "text/plain": [
       "<Figure size 432x288 with 1 Axes>"
      ]
     },
     "metadata": {
      "needs_background": "light"
     },
     "output_type": "display_data"
    }
   ],
   "source": [
    "lr = model5.history.history['lr']\n",
    "\n",
    "plt.plot(epochs, lr, 'r-', label='Learning rate')\n",
    "plt.grid()\n",
    "plt.xlabel('Epochs')\n",
    "plt.ylabel('Learing rate')\n",
    "plt.xticks(epochs)\n",
    "plt.legend()\n",
    "\n",
    "plt.savefig(r'C:\\Users\\MikołajStryja\\Documents\\Studia\\do_magisterki_obrazy\\Model_5_lr_changes.png')"
   ]
  },
  {
   "cell_type": "code",
   "execution_count": 18,
   "metadata": {},
   "outputs": [],
   "source": [
    "results = model5.predict(evaluation_generator)\n",
    "for elem in results:\n",
    "    max_value = np.where(elem == np.amax(elem))\n",
    "    elem[max_value] = 1\n",
    "    elem[elem != 1] = 0"
   ]
  },
  {
   "cell_type": "code",
   "execution_count": 19,
   "metadata": {},
   "outputs": [],
   "source": [
    "from master_lib.loader.data_loader import evaluate_categories\n",
    "gt = []\n",
    "for elem in Xeval[:len(results)]:\n",
    "    gt.append(evaluate_categories(os.path.basename(elem)))"
   ]
  },
  {
   "cell_type": "code",
   "execution_count": 20,
   "metadata": {},
   "outputs": [
    {
     "name": "stdout",
     "output_type": "stream",
     "text": [
      "Predicted: [0. 0. 0. 1.], True label: [0 1 0 0]\n",
      "Predicted: [0. 0. 0. 1.], True label: [0 1 0 0]\n",
      "Predicted: [0. 0. 0. 1.], True label: [0 0 1 0]\n",
      "Predicted: [0. 0. 0. 1.], True label: [0 0 0 1]\n",
      "Predicted: [0. 0. 0. 1.], True label: [0 0 0 1]\n",
      "Predicted: [0. 0. 0. 1.], True label: [0 0 0 1]\n",
      "Predicted: [0. 0. 0. 1.], True label: [0 0 1 0]\n",
      "Predicted: [0. 0. 0. 1.], True label: [0 0 0 1]\n",
      "Predicted: [0. 0. 0. 1.], True label: [0 0 1 0]\n",
      "Predicted: [0. 0. 0. 1.], True label: [0 0 0 1]\n",
      "Predicted: [0. 0. 0. 1.], True label: [0 0 0 1]\n",
      "Predicted: [0. 0. 0. 1.], True label: [0 0 1 0]\n",
      "Predicted: [0. 0. 0. 1.], True label: [0 0 0 1]\n",
      "Predicted: [0. 0. 0. 1.], True label: [0 0 1 0]\n",
      "Predicted: [0. 0. 0. 1.], True label: [1 0 0 0]\n",
      "Predicted: [0. 0. 0. 1.], True label: [0 1 0 0]\n",
      "Predicted: [0. 0. 0. 1.], True label: [0 0 1 0]\n",
      "Predicted: [0. 0. 0. 1.], True label: [0 1 0 0]\n",
      "Predicted: [0. 0. 0. 1.], True label: [0 0 0 1]\n",
      "Predicted: [0. 0. 0. 1.], True label: [1 0 0 0]\n",
      "Predicted: [0. 0. 0. 1.], True label: [0 0 0 1]\n",
      "Predicted: [0. 0. 0. 1.], True label: [0 0 1 0]\n",
      "Predicted: [0. 0. 0. 1.], True label: [0 1 0 0]\n",
      "Predicted: [0. 0. 0. 1.], True label: [0 1 0 0]\n",
      "Predicted: [0. 0. 0. 1.], True label: [0 0 0 1]\n",
      "Predicted: [0. 0. 0. 1.], True label: [0 0 1 0]\n",
      "Predicted: [0. 0. 0. 1.], True label: [0 1 0 0]\n",
      "Predicted: [0. 0. 0. 1.], True label: [1 0 0 0]\n",
      "Predicted: [0. 0. 0. 1.], True label: [0 1 0 0]\n",
      "Predicted: [0. 0. 0. 1.], True label: [0 0 0 1]\n",
      "Predicted: [0. 0. 0. 1.], True label: [0 0 1 0]\n",
      "Predicted: [0. 0. 0. 1.], True label: [0 0 0 1]\n",
      "Predicted: [0. 0. 0. 1.], True label: [0 0 0 1]\n",
      "Predicted: [0. 0. 0. 1.], True label: [0 1 0 0]\n",
      "Predicted: [0. 0. 0. 1.], True label: [0 0 0 1]\n",
      "Predicted: [0. 0. 0. 1.], True label: [0 0 0 1]\n",
      "Predicted: [0. 0. 0. 1.], True label: [0 0 1 0]\n",
      "Predicted: [0. 0. 0. 1.], True label: [0 0 0 1]\n",
      "Predicted: [0. 0. 0. 1.], True label: [0 0 0 1]\n",
      "Predicted: [0. 0. 0. 1.], True label: [0 0 0 1]\n",
      "Predicted: [0. 0. 0. 1.], True label: [0 0 1 0]\n",
      "Predicted: [0. 0. 0. 1.], True label: [0 0 0 1]\n",
      "Predicted: [0. 0. 0. 1.], True label: [0 0 0 1]\n",
      "Predicted: [0. 0. 0. 1.], True label: [0 0 1 0]\n",
      "Predicted: [0. 0. 0. 1.], True label: [0 0 0 1]\n",
      "Predicted: [0. 0. 0. 1.], True label: [0 0 1 0]\n",
      "Predicted: [0. 0. 0. 1.], True label: [1 0 0 0]\n",
      "Predicted: [0. 0. 0. 1.], True label: [0 0 0 1]\n",
      "Predicted: [0. 0. 0. 1.], True label: [0 0 0 1]\n",
      "Predicted: [0. 0. 0. 1.], True label: [0 1 0 0]\n",
      "Predicted: [0. 0. 0. 1.], True label: [0 0 0 1]\n",
      "Predicted: [0. 0. 0. 1.], True label: [0 0 1 0]\n",
      "Predicted: [0. 0. 0. 1.], True label: [0 0 0 1]\n",
      "Predicted: [0. 0. 0. 1.], True label: [0 0 0 1]\n",
      "Predicted: [0. 0. 0. 1.], True label: [0 0 0 1]\n",
      "Predicted: [0. 0. 0. 1.], True label: [0 0 1 0]\n",
      "Predicted: [0. 0. 0. 1.], True label: [0 0 1 0]\n",
      "Predicted: [0. 0. 0. 1.], True label: [0 0 1 0]\n",
      "Predicted: [0. 0. 0. 1.], True label: [0 0 0 1]\n",
      "Predicted: [0. 0. 0. 1.], True label: [0 0 0 1]\n",
      "Predicted: [0. 0. 0. 1.], True label: [0 0 0 1]\n",
      "Predicted: [0. 0. 0. 1.], True label: [0 0 0 1]\n",
      "Predicted: [0. 0. 0. 1.], True label: [0 0 1 0]\n",
      "Predicted: [0. 0. 0. 1.], True label: [0 1 0 0]\n",
      "Predicted: [0. 0. 0. 1.], True label: [0 0 0 1]\n",
      "Predicted: [0. 0. 0. 1.], True label: [0 0 1 0]\n",
      "Predicted: [0. 0. 0. 1.], True label: [0 0 0 1]\n",
      "Predicted: [0. 0. 0. 1.], True label: [0 0 1 0]\n",
      "Predicted: [0. 0. 0. 1.], True label: [0 0 0 1]\n",
      "Predicted: [0. 0. 0. 1.], True label: [0 1 0 0]\n",
      "Predicted: [0. 0. 0. 1.], True label: [0 0 0 1]\n",
      "Predicted: [0. 0. 0. 1.], True label: [0 0 0 1]\n",
      "Predicted: [0. 0. 0. 1.], True label: [0 1 0 0]\n",
      "Predicted: [0. 0. 0. 1.], True label: [0 0 0 1]\n",
      "Predicted: [0. 0. 0. 1.], True label: [0 1 0 0]\n",
      "Predicted: [0. 0. 0. 1.], True label: [1 0 0 0]\n",
      "Predicted: [0. 0. 0. 1.], True label: [0 0 0 1]\n",
      "Predicted: [0. 0. 0. 1.], True label: [0 1 0 0]\n",
      "Predicted: [0. 0. 0. 1.], True label: [0 1 0 0]\n",
      "Predicted: [0. 0. 0. 1.], True label: [0 0 0 1]\n",
      "Predicted: [0. 0. 0. 1.], True label: [0 0 1 0]\n",
      "Predicted: [0. 0. 0. 1.], True label: [0 0 1 0]\n",
      "Predicted: [0. 0. 0. 1.], True label: [0 0 1 0]\n",
      "Predicted: [0. 0. 0. 1.], True label: [0 0 0 1]\n",
      "Predicted: [0. 0. 0. 1.], True label: [0 0 1 0]\n",
      "Predicted: [0. 0. 0. 1.], True label: [0 0 1 0]\n",
      "Predicted: [0. 0. 0. 1.], True label: [0 0 0 1]\n",
      "Predicted: [0. 0. 0. 1.], True label: [1 0 0 0]\n",
      "Predicted: [0. 0. 0. 1.], True label: [0 0 0 1]\n",
      "Predicted: [0. 0. 0. 1.], True label: [0 0 0 1]\n",
      "Predicted: [0. 0. 0. 1.], True label: [0 0 0 1]\n",
      "Predicted: [0. 0. 0. 1.], True label: [0 0 1 0]\n",
      "Predicted: [0. 0. 0. 1.], True label: [0 0 1 0]\n",
      "Predicted: [0. 0. 0. 1.], True label: [0 0 0 1]\n",
      "Predicted: [0. 0. 0. 1.], True label: [0 0 0 1]\n",
      "Predicted: [0. 0. 0. 1.], True label: [0 0 1 0]\n",
      "Predicted: [0. 0. 0. 1.], True label: [0 0 0 1]\n",
      "Predicted: [0. 0. 0. 1.], True label: [0 0 0 1]\n",
      "Predicted: [0. 0. 0. 1.], True label: [0 0 0 1]\n",
      "Predicted: [0. 0. 0. 1.], True label: [0 0 0 1]\n",
      "Predicted: [0. 0. 0. 1.], True label: [0 1 0 0]\n",
      "Predicted: [0. 0. 0. 1.], True label: [0 0 1 0]\n",
      "Predicted: [0. 0. 0. 1.], True label: [0 0 0 1]\n",
      "Predicted: [0. 0. 0. 1.], True label: [0 0 0 1]\n",
      "Predicted: [0. 0. 0. 1.], True label: [0 0 0 1]\n",
      "Predicted: [0. 0. 0. 1.], True label: [0 0 0 1]\n",
      "Predicted: [0. 0. 0. 1.], True label: [1 0 0 0]\n",
      "Predicted: [0. 0. 0. 1.], True label: [0 0 1 0]\n",
      "Predicted: [0. 0. 0. 1.], True label: [0 0 0 1]\n",
      "Predicted: [0. 0. 0. 1.], True label: [0 0 1 0]\n",
      "Predicted: [0. 0. 0. 1.], True label: [0 0 1 0]\n",
      "Predicted: [0. 0. 0. 1.], True label: [1 0 0 0]\n",
      "Predicted: [0. 0. 0. 1.], True label: [0 0 1 0]\n",
      "Predicted: [0. 0. 0. 1.], True label: [1 0 0 0]\n",
      "Predicted: [0. 0. 0. 1.], True label: [0 0 1 0]\n",
      "Predicted: [0. 0. 0. 1.], True label: [0 1 0 0]\n",
      "Predicted: [0. 0. 0. 1.], True label: [0 0 1 0]\n",
      "Predicted: [0. 0. 0. 1.], True label: [0 0 0 1]\n",
      "Predicted: [0. 0. 0. 1.], True label: [0 1 0 0]\n",
      "Predicted: [0. 0. 0. 1.], True label: [0 0 0 1]\n",
      "Predicted: [0. 0. 0. 1.], True label: [0 0 0 1]\n",
      "Predicted: [0. 0. 0. 1.], True label: [0 1 0 0]\n",
      "Predicted: [0. 0. 0. 1.], True label: [0 1 0 0]\n",
      "Predicted: [0. 0. 0. 1.], True label: [0 0 1 0]\n",
      "Predicted: [0. 0. 0. 1.], True label: [0 0 1 0]\n",
      "Predicted: [0. 0. 0. 1.], True label: [0 0 1 0]\n",
      "Predicted: [0. 0. 0. 1.], True label: [0 1 0 0]\n",
      "Predicted: [0. 0. 0. 1.], True label: [0 1 0 0]\n"
     ]
    }
   ],
   "source": [
    "for x, y in zip(results, gt):\n",
    "    print(f\"Predicted: {x}, True label: {y}\")"
   ]
  },
  {
   "cell_type": "code",
   "execution_count": 21,
   "metadata": {},
   "outputs": [
    {
     "data": {
      "text/plain": [
       "(0.453125, 0.453125, 0.453125)"
      ]
     },
     "execution_count": 21,
     "metadata": {},
     "output_type": "execute_result"
    }
   ],
   "source": [
    "m = tf.keras.metrics.Precision()\n",
    "r = tf.keras.metrics.Recall()\n",
    "m.update_state(results, gt)\n",
    "r.update_state(results, gt)\n",
    "precision = m.result().numpy()\n",
    "recall = r.result().numpy()\n",
    "precision, recall, 2*precision*recall/(precision + recall)"
   ]
  },
  {
   "cell_type": "code",
   "execution_count": 29,
   "metadata": {},
   "outputs": [
    {
     "data": {
      "text/plain": [
       "(1.2100764513015747, 1.2171536684036255)"
      ]
     },
     "execution_count": 29,
     "metadata": {},
     "output_type": "execute_result"
    }
   ],
   "source": [
    "min(loss), min(val_loss)"
   ]
  },
  {
   "cell_type": "code",
   "execution_count": 30,
   "metadata": {},
   "outputs": [
    {
     "data": {
      "text/plain": [
       "(0.4723837077617645, 0.4727272689342499)"
      ]
     },
     "execution_count": 30,
     "metadata": {},
     "output_type": "execute_result"
    }
   ],
   "source": [
    "max(acc), max(val_acc)"
   ]
  },
  {
   "cell_type": "code",
   "execution_count": 66,
   "metadata": {},
   "outputs": [
    {
     "name": "stdout",
     "output_type": "stream",
     "text": [
      "('You must install pydot (`pip install pydot`) and install graphviz (see instructions at https://graphviz.gitlab.io/download/) ', 'for plot_model/model_to_dot to work.')\n"
     ]
    }
   ],
   "source": [
    "tf.keras.utils.plot_model(model5, r'C:\\Users\\MikołajStryja\\Documents\\Studia\\master\\model_plots\\Model2.png')"
   ]
  },
  {
   "cell_type": "code",
   "execution_count": 64,
   "metadata": {},
   "outputs": [
    {
     "name": "stdout",
     "output_type": "stream",
     "text": [
      "pydot                              1.4.2\n"
     ]
    }
   ],
   "source": []
  },
  {
   "cell_type": "code",
   "execution_count": null,
   "metadata": {},
   "outputs": [],
   "source": []
  }
 ],
 "metadata": {
  "interpreter": {
   "hash": "b3ba2566441a7c06988d0923437866b63cedc61552a5af99d1f4fb67d367b25f"
  },
  "kernelspec": {
   "display_name": "stryja_ss",
   "language": "python",
   "name": "stryja_sat"
  },
  "language_info": {
   "codemirror_mode": {
    "name": "ipython",
    "version": 3
   },
   "file_extension": ".py",
   "mimetype": "text/x-python",
   "name": "python",
   "nbconvert_exporter": "python",
   "pygments_lexer": "ipython3",
   "version": "3.7.11"
  }
 },
 "nbformat": 4,
 "nbformat_minor": 2
}
