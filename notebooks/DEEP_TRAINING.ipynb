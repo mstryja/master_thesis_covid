{
 "cells": [
  {
   "cell_type": "code",
   "execution_count": 1,
   "id": "d7079e9a",
   "metadata": {},
   "outputs": [],
   "source": [
    "import numpy as np\n",
    "\n",
    "#Coviddetector\n",
    "from coviddet.generator.dataset import Dataset\n",
    "from coviddet.generator.dataloader import Dataloder\n",
    "from coviddet.models.architecture import CovidClassifier\n",
    "\n",
    "# Rest\n",
    "import pandas as pd\n",
    "from typing import List\n",
    "\n",
    "# model definition\n",
    "import PIL\n",
    "import os\n",
    "import tensorflow as tf\n",
    "\n",
    "from tensorflow import keras\n",
    "from tensorflow.keras import layers\n",
    "from tensorflow.keras.models import Sequential\n",
    "from tensorflow.keras.utils import plot_model\n",
    "from tensorflow.keras.applications import ResNet50, DenseNet121, Xception\n",
    "from keras.layers import Input, Conv2D\n",
    "\n",
    "# Preprocessing and additionals:\n",
    "from sklearn.preprocessing import MinMaxScaler\n",
    "from skimage import exposure\n",
    "scaler = MinMaxScaler()\n",
    "\n",
    "import cv2\n",
    "\n",
    "import random\n",
    "\n",
    "num_classes = 4\n",
    "\n",
    "# matplotlib: \n",
    "import matplotlib.pyplot as plt\n",
    "\n",
    "# sess = tf.compat.v1.Session(config=tf.compat.v1.ConfigProto(log_device_placement=True))\n",
    "# from tensorflow.python.client import device_lib\n",
    "# print(device_lib.list_local_devices())\n",
    "# Set GPU\n",
    "os.environ[\"CUDA_VISIBLE_DEVICES\"]=\"0\"\n",
    "\n",
    "model_archive = '../trained_models/'"
   ]
  },
  {
   "cell_type": "code",
   "execution_count": 2,
   "id": "2a37518e",
   "metadata": {},
   "outputs": [],
   "source": [
    "def decode_label(labels, classes):\n",
    "    if labels.sum()==0:\n",
    "        return 'Not Classified'\n",
    "    for label, name in zip(labels, classes):\n",
    "        if label==1:\n",
    "            return str(name)"
   ]
  },
  {
   "cell_type": "code",
   "execution_count": 3,
   "id": "a3aef921",
   "metadata": {},
   "outputs": [],
   "source": [
    "dataset_path = '../dataset.json'\n",
    "dataset_images = '../../../covid_dataset/'"
   ]
  },
  {
   "cell_type": "code",
   "execution_count": 4,
   "id": "52c896bb",
   "metadata": {},
   "outputs": [
    {
     "name": "stdout",
     "output_type": "stream",
     "text": [
      "dataset length: 6054\n",
      "Evaluation Cases: 200\n",
      "Train cases: 5269\n",
      "Validation cases: 585\n"
     ]
    }
   ],
   "source": [
    "train, validation, test = Dataset.create_datasets(dataset_images, dataset_path, 0.1, 200)"
   ]
  },
  {
   "cell_type": "code",
   "execution_count": 5,
   "id": "e04bc6e6",
   "metadata": {},
   "outputs": [],
   "source": [
    "train_gen = Dataloder(train, batch_size=16, preprocessing='MinMax', shuffle=True, expanddims=True)\n",
    "valid_gen = Dataloder(train, batch_size=8, preprocessing='MinMax', shuffle=False, expanddims=True)"
   ]
  },
  {
   "cell_type": "code",
   "execution_count": 6,
   "id": "d3504b9f",
   "metadata": {},
   "outputs": [],
   "source": [
    "LR = 0.0001\n",
    "optim = keras.optimizers.Adam(LR)"
   ]
  },
  {
   "cell_type": "code",
   "execution_count": 7,
   "id": "206fcc16",
   "metadata": {},
   "outputs": [
    {
     "name": "stderr",
     "output_type": "stream",
     "text": [
      "2022-01-20 21:34:39.166380: I tensorflow/core/platform/cpu_feature_guard.cc:151] This TensorFlow binary is optimized with oneAPI Deep Neural Network Library (oneDNN) to use the following CPU instructions in performance-critical operations:  AVX2 FMA\n",
      "To enable them in other operations, rebuild TensorFlow with the appropriate compiler flags.\n",
      "2022-01-20 21:34:39.633534: I tensorflow/core/common_runtime/gpu/gpu_device.cc:1525] Created device /job:localhost/replica:0/task:0/device:GPU:0 with 38414 MB memory:  -> device: 0, name: A100-PCIE-40GB, pci bus id: 0000:81:00.0, compute capability: 8.0\n"
     ]
    },
    {
     "name": "stdout",
     "output_type": "stream",
     "text": [
      "512.0\n",
      "256.0\n",
      "128.0\n",
      "64.0\n",
      "32.0\n",
      "16.0\n",
      "8.0\n",
      "4.0\n"
     ]
    }
   ],
   "source": [
    "classifier = CovidClassifier()"
   ]
  },
  {
   "cell_type": "code",
   "execution_count": 8,
   "id": "fc818bed",
   "metadata": {},
   "outputs": [],
   "source": [
    "metrics = [keras.metrics.CategoricalAccuracy(name=\"categorical_accuracy\", dtype=None), \n",
    "                        keras.metrics.Precision(name=\"precision\"), \n",
    "                        keras.metrics.Recall(name=\"recall\")]\n",
    "\n",
    "classifier.compile(optimizer=optim,\n",
    "                     loss='hinge',# keras.losses.BinaryCrossentropy(), # default from_logits=False\n",
    "                     metrics=metrics)\n",
    "\n",
    "classifier.build(train_gen[0][0].shape)"
   ]
  },
  {
   "cell_type": "code",
   "execution_count": 18,
   "id": "55315e6c",
   "metadata": {},
   "outputs": [
    {
     "name": "stdout",
     "output_type": "stream",
     "text": [
      "All weights will be stored under ../trained_models/covid_classifier\n"
     ]
    }
   ],
   "source": [
    "# Callbacks:\n",
    "checkpoint_dir = os.path.join(model_archive, classifier.name)\n",
    "\n",
    "if os.path.exists(checkpoint_filepath):\n",
    "    print(\"All weights will be stored under {}\".format(checkpoint_dir))\n",
    "    \n",
    "else:\n",
    "    os.mkdir(os.path.join(model_archive, classifier.name))\n",
    "    print(\"Directory for model {} created!\".format(classifier.name))\n",
    "    \n",
    "checkpoint_file = os.path.join(checkpoint_dir, 'model_weights')\n",
    "\n",
    "checkpoint_save = tf.keras.callbacks.ModelCheckpoint(\n",
    "    filepath=checkpoint_file,\n",
    "    monitor=\"categorical_accuracy\",\n",
    "    verbose=0,\n",
    "    save_best_only=False,\n",
    "    save_weights_only=True,\n",
    "    mode=\"auto\",\n",
    "    save_freq=\"epoch\",\n",
    "    options=None,\n",
    ")"
   ]
  },
  {
   "cell_type": "code",
   "execution_count": 19,
   "id": "b23c8aef",
   "metadata": {},
   "outputs": [
    {
     "name": "stdout",
     "output_type": "stream",
     "text": [
      "Model: \"covid_classifier\"\n",
      "_________________________________________________________________\n",
      " Layer (type)                Output Shape              Param #   \n",
      "=================================================================\n",
      " Converter (Conv2D)          multiple                  6         \n",
      "                                                                 \n",
      " resnet50 (Functional)       (None, None, None, 2048)  23587712  \n",
      "                                                                 \n",
      " GLobAvaPooling2D (GlobalAve  multiple                 0         \n",
      " ragePooling2D)                                                  \n",
      "                                                                 \n",
      " Sequential_Block (Sequentia  (16, 8)                  2798200   \n",
      " l)                                                              \n",
      "                                                                 \n",
      " ModelOutput (Dense)         multiple                  36        \n",
      "                                                                 \n",
      "=================================================================\n",
      "Total params: 26,385,954\n",
      "Trainable params: 26,332,828\n",
      "Non-trainable params: 53,126\n",
      "_________________________________________________________________\n"
     ]
    }
   ],
   "source": [
    "classifier.summary()"
   ]
  },
  {
   "cell_type": "code",
   "execution_count": 21,
   "id": "cb16ec8d",
   "metadata": {},
   "outputs": [
    {
     "name": "stdout",
     "output_type": "stream",
     "text": [
      "Epoch 1/10\n"
     ]
    },
    {
     "name": "stderr",
     "output_type": "stream",
     "text": [
      "2022-01-20 21:46:14.531038: I tensorflow/stream_executor/cuda/cuda_dnn.cc:366] Loaded cuDNN version 8101\n",
      "2022-01-20 21:46:16.643306: I tensorflow/stream_executor/cuda/cuda_blas.cc:1774] TensorFloat-32 will be used for the matrix multiplication. This will only be logged once.\n"
     ]
    },
    {
     "name": "stdout",
     "output_type": "stream",
     "text": [
      " 38/329 [==>...........................] - ETA: 14:36 - loss: 1.0571 - categorical_accuracy: 0.4655 - precision: 0.4913 - recall: 0.3240"
     ]
    },
    {
     "name": "stderr",
     "output_type": "stream",
     "text": [
      "/home/mstryja/.conda/envs/stryja_sat/lib/python3.7/site-packages/pydicom/pixel_data_handlers/numpy_handler.py:359: UserWarning: The length of the pixel data in the dataset (13262360 bytes) indicates it contains excess padding. 216296 bytes will be removed from the end of the data\n",
      "  warnings.warn(msg)\n"
     ]
    },
    {
     "name": "stdout",
     "output_type": "stream",
     "text": [
      "329/329 [==============================] - ETA: 0s - loss: 1.0205 - categorical_accuracy: 0.4683 - precision: 0.4704 - recall: 0.4519"
     ]
    },
    {
     "name": "stderr",
     "output_type": "stream",
     "text": [
      "/home/mstryja/.conda/envs/stryja_sat/lib/python3.7/site-packages/pydicom/pixel_data_handlers/numpy_handler.py:359: UserWarning: The length of the pixel data in the dataset (13262360 bytes) indicates it contains excess padding. 216296 bytes will be removed from the end of the data\n",
      "  warnings.warn(msg)\n"
     ]
    },
    {
     "name": "stdout",
     "output_type": "stream",
     "text": [
      "329/329 [==============================] - 1961s 6s/step - loss: 1.0205 - categorical_accuracy: 0.4683 - precision: 0.4704 - recall: 0.4519 - val_loss: 1.0151 - val_categorical_accuracy: 0.4698 - val_precision: 0.4698 - val_recall: 0.4698\n",
      "Epoch 2/10\n",
      " 57/329 [====>.........................] - ETA: 13:37 - loss: 1.0186 - categorical_accuracy: 0.4627 - precision: 0.4627 - recall: 0.4627"
     ]
    },
    {
     "name": "stderr",
     "output_type": "stream",
     "text": [
      "/home/mstryja/.conda/envs/stryja_sat/lib/python3.7/site-packages/pydicom/pixel_data_handlers/numpy_handler.py:359: UserWarning: The length of the pixel data in the dataset (13262360 bytes) indicates it contains excess padding. 216296 bytes will be removed from the end of the data\n",
      "  warnings.warn(msg)\n"
     ]
    },
    {
     "name": "stdout",
     "output_type": "stream",
     "text": [
      "329/329 [==============================] - ETA: 0s - loss: 1.0151 - categorical_accuracy: 0.4698 - precision: 0.4698 - recall: 0.4698"
     ]
    },
    {
     "name": "stderr",
     "output_type": "stream",
     "text": [
      "/home/mstryja/.conda/envs/stryja_sat/lib/python3.7/site-packages/pydicom/pixel_data_handlers/numpy_handler.py:359: UserWarning: The length of the pixel data in the dataset (13262360 bytes) indicates it contains excess padding. 216296 bytes will be removed from the end of the data\n",
      "  warnings.warn(msg)\n"
     ]
    },
    {
     "name": "stdout",
     "output_type": "stream",
     "text": [
      "329/329 [==============================] - 1933s 6s/step - loss: 1.0151 - categorical_accuracy: 0.4698 - precision: 0.4698 - recall: 0.4698 - val_loss: 1.0151 - val_categorical_accuracy: 0.4698 - val_precision: 0.4698 - val_recall: 0.4698\n",
      "Epoch 3/10\n",
      "144/329 [============>.................] - ETA: 8:49 - loss: 1.0215 - categorical_accuracy: 0.4570 - precision: 0.4570 - recall: 0.4570"
     ]
    },
    {
     "name": "stderr",
     "output_type": "stream",
     "text": [
      "/home/mstryja/.conda/envs/stryja_sat/lib/python3.7/site-packages/pydicom/pixel_data_handlers/numpy_handler.py:359: UserWarning: The length of the pixel data in the dataset (13262360 bytes) indicates it contains excess padding. 216296 bytes will be removed from the end of the data\n",
      "  warnings.warn(msg)\n"
     ]
    },
    {
     "name": "stdout",
     "output_type": "stream",
     "text": [
      "329/329 [==============================] - ETA: 0s - loss: 1.0151 - categorical_accuracy: 0.4698 - precision: 0.4698 - recall: 0.4698"
     ]
    },
    {
     "name": "stderr",
     "output_type": "stream",
     "text": [
      "/home/mstryja/.conda/envs/stryja_sat/lib/python3.7/site-packages/pydicom/pixel_data_handlers/numpy_handler.py:359: UserWarning: The length of the pixel data in the dataset (13262360 bytes) indicates it contains excess padding. 216296 bytes will be removed from the end of the data\n",
      "  warnings.warn(msg)\n"
     ]
    },
    {
     "name": "stdout",
     "output_type": "stream",
     "text": [
      "329/329 [==============================] - 1893s 6s/step - loss: 1.0151 - categorical_accuracy: 0.4698 - precision: 0.4698 - recall: 0.4698 - val_loss: 1.0151 - val_categorical_accuracy: 0.4698 - val_precision: 0.4698 - val_recall: 0.4698\n",
      "Epoch 4/10\n",
      " 37/329 [==>...........................] - ETA: 15:43 - loss: 1.0338 - categorical_accuracy: 0.4324 - precision: 0.4324 - recall: 0.4324"
     ]
    },
    {
     "name": "stderr",
     "output_type": "stream",
     "text": [
      "/home/mstryja/.conda/envs/stryja_sat/lib/python3.7/site-packages/pydicom/pixel_data_handlers/numpy_handler.py:359: UserWarning: The length of the pixel data in the dataset (13262360 bytes) indicates it contains excess padding. 216296 bytes will be removed from the end of the data\n",
      "  warnings.warn(msg)\n"
     ]
    },
    {
     "name": "stdout",
     "output_type": "stream",
     "text": [
      "329/329 [==============================] - ETA: 0s - loss: 1.0151 - categorical_accuracy: 0.4698 - precision: 0.4701 - recall: 0.4696"
     ]
    },
    {
     "name": "stderr",
     "output_type": "stream",
     "text": [
      "/home/mstryja/.conda/envs/stryja_sat/lib/python3.7/site-packages/pydicom/pixel_data_handlers/numpy_handler.py:359: UserWarning: The length of the pixel data in the dataset (13262360 bytes) indicates it contains excess padding. 216296 bytes will be removed from the end of the data\n",
      "  warnings.warn(msg)\n"
     ]
    },
    {
     "name": "stdout",
     "output_type": "stream",
     "text": [
      "329/329 [==============================] - 1904s 6s/step - loss: 1.0151 - categorical_accuracy: 0.4698 - precision: 0.4701 - recall: 0.4696 - val_loss: 1.0151 - val_categorical_accuracy: 0.4698 - val_precision: 0.4698 - val_recall: 0.4698\n",
      "Epoch 5/10\n",
      "256/329 [======================>.......] - ETA: 3:33 - loss: 1.0133 - categorical_accuracy: 0.4734 - precision: 0.4734 - recall: 0.4734"
     ]
    },
    {
     "name": "stderr",
     "output_type": "stream",
     "text": [
      "/home/mstryja/.conda/envs/stryja_sat/lib/python3.7/site-packages/pydicom/pixel_data_handlers/numpy_handler.py:359: UserWarning: The length of the pixel data in the dataset (13262360 bytes) indicates it contains excess padding. 216296 bytes will be removed from the end of the data\n",
      "  warnings.warn(msg)\n"
     ]
    },
    {
     "name": "stdout",
     "output_type": "stream",
     "text": [
      "329/329 [==============================] - ETA: 0s - loss: 1.0151 - categorical_accuracy: 0.4698 - precision: 0.4698 - recall: 0.4698"
     ]
    },
    {
     "name": "stderr",
     "output_type": "stream",
     "text": [
      "/home/mstryja/.conda/envs/stryja_sat/lib/python3.7/site-packages/pydicom/pixel_data_handlers/numpy_handler.py:359: UserWarning: The length of the pixel data in the dataset (13262360 bytes) indicates it contains excess padding. 216296 bytes will be removed from the end of the data\n",
      "  warnings.warn(msg)\n"
     ]
    },
    {
     "name": "stdout",
     "output_type": "stream",
     "text": [
      "329/329 [==============================] - 1909s 6s/step - loss: 1.0151 - categorical_accuracy: 0.4698 - precision: 0.4698 - recall: 0.4698 - val_loss: 1.0151 - val_categorical_accuracy: 0.4698 - val_precision: 0.4698 - val_recall: 0.4698\n",
      "Epoch 6/10\n",
      "116/329 [=========>....................] - ETA: 10:53 - loss: 1.0143 - categorical_accuracy: 0.4714 - precision: 0.4714 - recall: 0.4714"
     ]
    },
    {
     "name": "stderr",
     "output_type": "stream",
     "text": [
      "/home/mstryja/.conda/envs/stryja_sat/lib/python3.7/site-packages/pydicom/pixel_data_handlers/numpy_handler.py:359: UserWarning: The length of the pixel data in the dataset (13262360 bytes) indicates it contains excess padding. 216296 bytes will be removed from the end of the data\n",
      "  warnings.warn(msg)\n"
     ]
    },
    {
     "name": "stdout",
     "output_type": "stream",
     "text": [
      "329/329 [==============================] - ETA: 0s - loss: 1.0152 - categorical_accuracy: 0.4698 - precision: 0.4697 - recall: 0.4696"
     ]
    },
    {
     "name": "stderr",
     "output_type": "stream",
     "text": [
      "/home/mstryja/.conda/envs/stryja_sat/lib/python3.7/site-packages/pydicom/pixel_data_handlers/numpy_handler.py:359: UserWarning: The length of the pixel data in the dataset (13262360 bytes) indicates it contains excess padding. 216296 bytes will be removed from the end of the data\n",
      "  warnings.warn(msg)\n"
     ]
    },
    {
     "name": "stdout",
     "output_type": "stream",
     "text": [
      "329/329 [==============================] - 1892s 6s/step - loss: 1.0152 - categorical_accuracy: 0.4698 - precision: 0.4697 - recall: 0.4696 - val_loss: 1.0151 - val_categorical_accuracy: 0.4698 - val_precision: 0.4698 - val_recall: 0.4698\n",
      "Epoch 7/10\n",
      "280/329 [========================>.....] - ETA: 2:22 - loss: 1.0143 - categorical_accuracy: 0.4714 - precision: 0.4714 - recall: 0.4714"
     ]
    },
    {
     "name": "stderr",
     "output_type": "stream",
     "text": [
      "/home/mstryja/.conda/envs/stryja_sat/lib/python3.7/site-packages/pydicom/pixel_data_handlers/numpy_handler.py:359: UserWarning: The length of the pixel data in the dataset (13262360 bytes) indicates it contains excess padding. 216296 bytes will be removed from the end of the data\n",
      "  warnings.warn(msg)\n"
     ]
    },
    {
     "name": "stdout",
     "output_type": "stream",
     "text": [
      "329/329 [==============================] - ETA: 0s - loss: 1.0151 - categorical_accuracy: 0.4698 - precision: 0.4698 - recall: 0.4698"
     ]
    },
    {
     "name": "stderr",
     "output_type": "stream",
     "text": [
      "/home/mstryja/.conda/envs/stryja_sat/lib/python3.7/site-packages/pydicom/pixel_data_handlers/numpy_handler.py:359: UserWarning: The length of the pixel data in the dataset (13262360 bytes) indicates it contains excess padding. 216296 bytes will be removed from the end of the data\n",
      "  warnings.warn(msg)\n"
     ]
    },
    {
     "name": "stdout",
     "output_type": "stream",
     "text": [
      "329/329 [==============================] - 1899s 6s/step - loss: 1.0151 - categorical_accuracy: 0.4698 - precision: 0.4698 - recall: 0.4698 - val_loss: 1.0151 - val_categorical_accuracy: 0.4698 - val_precision: 0.4698 - val_recall: 0.4698\n",
      "Epoch 8/10\n",
      "195/329 [================>.............] - ETA: 6:34 - loss: 1.0155 - categorical_accuracy: 0.4689 - precision: 0.4689 - recall: 0.4689"
     ]
    },
    {
     "name": "stderr",
     "output_type": "stream",
     "text": [
      "/home/mstryja/.conda/envs/stryja_sat/lib/python3.7/site-packages/pydicom/pixel_data_handlers/numpy_handler.py:359: UserWarning: The length of the pixel data in the dataset (13262360 bytes) indicates it contains excess padding. 216296 bytes will be removed from the end of the data\n",
      "  warnings.warn(msg)\n"
     ]
    },
    {
     "name": "stdout",
     "output_type": "stream",
     "text": [
      "329/329 [==============================] - ETA: 0s - loss: 1.0151 - categorical_accuracy: 0.4698 - precision: 0.4698 - recall: 0.4698"
     ]
    },
    {
     "name": "stderr",
     "output_type": "stream",
     "text": [
      "/home/mstryja/.conda/envs/stryja_sat/lib/python3.7/site-packages/pydicom/pixel_data_handlers/numpy_handler.py:359: UserWarning: The length of the pixel data in the dataset (13262360 bytes) indicates it contains excess padding. 216296 bytes will be removed from the end of the data\n",
      "  warnings.warn(msg)\n"
     ]
    },
    {
     "name": "stdout",
     "output_type": "stream",
     "text": [
      "329/329 [==============================] - 1896s 6s/step - loss: 1.0151 - categorical_accuracy: 0.4698 - precision: 0.4698 - recall: 0.4698 - val_loss: 1.0151 - val_categorical_accuracy: 0.4698 - val_precision: 0.4698 - val_recall: 0.4698\n",
      "Epoch 9/10\n",
      " 72/329 [=====>........................] - ETA: 12:53 - loss: 1.0174 - categorical_accuracy: 0.4653 - precision: 0.4653 - recall: 0.4653"
     ]
    },
    {
     "name": "stderr",
     "output_type": "stream",
     "text": [
      "/home/mstryja/.conda/envs/stryja_sat/lib/python3.7/site-packages/pydicom/pixel_data_handlers/numpy_handler.py:359: UserWarning: The length of the pixel data in the dataset (13262360 bytes) indicates it contains excess padding. 216296 bytes will be removed from the end of the data\n",
      "  warnings.warn(msg)\n"
     ]
    },
    {
     "name": "stdout",
     "output_type": "stream",
     "text": [
      "329/329 [==============================] - ETA: 0s - loss: 1.0151 - categorical_accuracy: 0.4698 - precision: 0.4698 - recall: 0.4698"
     ]
    },
    {
     "name": "stderr",
     "output_type": "stream",
     "text": [
      "/home/mstryja/.conda/envs/stryja_sat/lib/python3.7/site-packages/pydicom/pixel_data_handlers/numpy_handler.py:359: UserWarning: The length of the pixel data in the dataset (13262360 bytes) indicates it contains excess padding. 216296 bytes will be removed from the end of the data\n",
      "  warnings.warn(msg)\n"
     ]
    },
    {
     "name": "stdout",
     "output_type": "stream",
     "text": [
      "329/329 [==============================] - 1890s 6s/step - loss: 1.0151 - categorical_accuracy: 0.4698 - precision: 0.4698 - recall: 0.4698 - val_loss: 1.0151 - val_categorical_accuracy: 0.4698 - val_precision: 0.4698 - val_recall: 0.4698\n",
      "Epoch 10/10\n",
      "259/329 [======================>.......] - ETA: 3:26 - loss: 1.0142 - categorical_accuracy: 0.4715 - precision: 0.4715 - recall: 0.4715"
     ]
    },
    {
     "name": "stderr",
     "output_type": "stream",
     "text": [
      "/home/mstryja/.conda/envs/stryja_sat/lib/python3.7/site-packages/pydicom/pixel_data_handlers/numpy_handler.py:359: UserWarning: The length of the pixel data in the dataset (13262360 bytes) indicates it contains excess padding. 216296 bytes will be removed from the end of the data\n",
      "  warnings.warn(msg)\n"
     ]
    },
    {
     "name": "stdout",
     "output_type": "stream",
     "text": [
      "329/329 [==============================] - ETA: 0s - loss: 1.0151 - categorical_accuracy: 0.4698 - precision: 0.4698 - recall: 0.4698"
     ]
    },
    {
     "name": "stderr",
     "output_type": "stream",
     "text": [
      "/home/mstryja/.conda/envs/stryja_sat/lib/python3.7/site-packages/pydicom/pixel_data_handlers/numpy_handler.py:359: UserWarning: The length of the pixel data in the dataset (13262360 bytes) indicates it contains excess padding. 216296 bytes will be removed from the end of the data\n",
      "  warnings.warn(msg)\n"
     ]
    },
    {
     "name": "stdout",
     "output_type": "stream",
     "text": [
      "\b\b\b\b\b\b\b\b\b\b\b\b\b\b\b\b\b\b\b\b\b\b\b\b\b\b\b\b\b\b\b\b\b\b\b\b\b\b\b\b\b\b\b\b\b\b\b\b\b\b\b\b\b\b\b\b\b\b\b\b\b\b\b\b\b\b\b\b\b\b\b\b\b\b\b\b\b\b\b\b\b\b\b\b\b\b\b\b\b\b\b\b\b\b\b\b\b\b\b\b\b\b\b\b\b\b\b\b\b\b\b\b\b\b\b\b\b\b\b\b\b\b\b\b\b\b\b\b\b\b\b\b\b\r",
      "329/329 [==============================] - 1911s 6s/step - loss: 1.0151 - categorical_accuracy: 0.4698 - precision: 0.4698 - recall: 0.4698 - val_loss: 1.0151 - val_categorical_accuracy: 0.4698 - val_precision: 0.4698 - val_recall: 0.4698\n"
     ]
    }
   ],
   "source": [
    "history = classifier.fit(train_gen,\n",
    "                        validation_data=valid_gen,\n",
    "                        epochs=10,\n",
    "                        callbacks=[checkpoint_save])"
   ]
  },
  {
   "cell_type": "code",
   "execution_count": null,
   "id": "93361702",
   "metadata": {},
   "outputs": [],
   "source": [
    "# classifier.load_weights(os.path.join(model_archive, 'covid_classifier_2', 'model_final_weights.h5'), by_name=True)"
   ]
  },
  {
   "cell_type": "code",
   "execution_count": null,
   "id": "5a50c1a9",
   "metadata": {},
   "outputs": [],
   "source": [
    "# Tomorrow balance dataset using image augmentation - on the Dataset stage!"
   ]
  },
  {
   "cell_type": "code",
   "execution_count": 22,
   "id": "7863f46e",
   "metadata": {},
   "outputs": [],
   "source": []
  },
  {
   "cell_type": "code",
   "execution_count": null,
   "id": "515edc4b",
   "metadata": {},
   "outputs": [],
   "source": []
  }
 ],
 "metadata": {
  "kernelspec": {
   "display_name": "stryja_ss",
   "language": "python",
   "name": "stryja_sat"
  },
  "language_info": {
   "codemirror_mode": {
    "name": "ipython",
    "version": 3
   },
   "file_extension": ".py",
   "mimetype": "text/x-python",
   "name": "python",
   "nbconvert_exporter": "python",
   "pygments_lexer": "ipython3",
   "version": "3.7.11"
  }
 },
 "nbformat": 4,
 "nbformat_minor": 5
}
